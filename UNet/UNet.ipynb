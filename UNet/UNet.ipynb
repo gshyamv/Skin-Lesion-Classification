{
  "nbformat": 4,
  "nbformat_minor": 0,
  "metadata": {
    "colab": {
      "provenance": [],
      "gpuType": "T4"
    },
    "kernelspec": {
      "name": "python3",
      "display_name": "Python 3"
    },
    "language_info": {
      "name": "python"
    },
    "accelerator": "GPU"
  },
  "cells": [
    {
      "cell_type": "code",
      "source": [
        "from google.colab import drive\n",
        "drive.mount('/content/drive')"
      ],
      "metadata": {
        "colab": {
          "base_uri": "https://localhost:8080/"
        },
        "id": "Ray_Kx-mWTER",
        "outputId": "7dd03cec-a01d-412f-df16-670f1559baa2"
      },
      "execution_count": null,
      "outputs": [
        {
          "output_type": "stream",
          "name": "stdout",
          "text": [
            "Drive already mounted at /content/drive; to attempt to forcibly remount, call drive.mount(\"/content/drive\", force_remount=True).\n"
          ]
        }
      ]
    },
    {
      "cell_type": "code",
      "source": [
        "cd /content/drive/MyDrive/RunUNet"
      ],
      "metadata": {
        "colab": {
          "base_uri": "https://localhost:8080/"
        },
        "id": "0jhPqvG0WUbg",
        "outputId": "495d2e27-45a0-4841-9d0b-ac243e8d6671"
      },
      "execution_count": null,
      "outputs": [
        {
          "output_type": "stream",
          "name": "stdout",
          "text": [
            "/content/drive/MyDrive/RunUNet\n"
          ]
        }
      ]
    },
    {
      "cell_type": "code",
      "source": [
        "ls"
      ],
      "metadata": {
        "colab": {
          "base_uri": "https://localhost:8080/"
        },
        "id": "ef7WPP1NWeX5",
        "outputId": "447e86b4-64a4-4815-ea08-fc75f2c263ab"
      },
      "execution_count": null,
      "outputs": [
        {
          "output_type": "stream",
          "name": "stdout",
          "text": [
            "dataset.py  model.py  \u001b[0m\u001b[01;34m__pycache__\u001b[0m/  \u001b[01;34msaved_images\u001b[0m/  utils.py\n"
          ]
        }
      ]
    },
    {
      "cell_type": "code",
      "source": [
        "import torch\n",
        "import albumentations as A\n",
        "from albumentations.pytorch import ToTensorV2\n",
        "from tqdm import tqdm\n",
        "import torch.nn as nn\n",
        "import torch.optim as optim\n",
        "import numpy as np\n",
        "from model import UNET\n",
        "from utils import (\n",
        "    load_checkpoint,\n",
        "    save_checkpoint,\n",
        "    get_loaders,\n",
        "    check_accuracy,\n",
        "    save_predictions_as_imgs,\n",
        ")\n",
        "\n",
        "# # Hyperparameters etc.\n",
        "# LEARNING_RATE = 1e-4\n",
        "# DEVICE = \"cuda\" if torch.cuda.is_available() else \"cpu\"\n",
        "# BATCH_SIZE = 16\n",
        "# NUM_EPOCHS = 3\n",
        "# NUM_WORKERS = 2\n",
        "# IMAGE_HEIGHT = 600\n",
        "# IMAGE_WIDTH = 450\n",
        "# PIN_MEMORY = True\n",
        "# LOAD_MODEL = False\n",
        "\n",
        "TRAIN_IMG_PATH = \"/content/drive/MyDrive/UNet2/Data/trainimages.npy\"\n",
        "TRAIN_MASK_PATH = \"/content/drive/MyDrive/UNet2/Data/trainmasks.npy\"\n",
        "VAL_IMG_PATH = \"/content/drive/MyDrive/UNet2/Data/valimages.npy\"\n",
        "VAL_MASK_PATH = \"/content/drive/MyDrive/UNet2/Data/valmasks.npy\"\n",
        "\n",
        "def train_fn(loader, model, optimizer, loss_fn, scaler):\n",
        "    loop = tqdm(loader)\n",
        "    for batch_idx, (data, targets) in enumerate(loop):\n",
        "        data = data.to(device=DEVICE, dtype=torch.float32)\n",
        "        targets = targets.float().to(device=DEVICE) / 255.0\n",
        "\n",
        "        # forward\n",
        "        with torch.amp.autocast(device_type=\"cuda\"):\n",
        "          predictions = model(data)\n",
        "          loss = loss_fn(predictions, targets)\n",
        "\n",
        "        # backward\n",
        "        optimizer.zero_grad()\n",
        "        scaler.scale(loss).backward()\n",
        "        scaler.step(optimizer)\n",
        "        scaler.update()\n",
        "\n",
        "        # update tqdm loop\n",
        "        loop.set_postfix(loss=loss.item())"
      ],
      "metadata": {
        "colab": {
          "base_uri": "https://localhost:8080/"
        },
        "id": "j60h_KjMzcQD",
        "outputId": "4c2cb0c5-fa6d-47a9-8b04-2d45ae04302e"
      },
      "execution_count": null,
      "outputs": [
        {
          "output_type": "stream",
          "name": "stderr",
          "text": [
            "/usr/local/lib/python3.11/dist-packages/albumentations/__init__.py:24: UserWarning: A new version of Albumentations is available: 2.0.2 (you have 1.4.20). Upgrade using: pip install -U albumentations. To disable automatic update checks, set the environment variable NO_ALBUMENTATIONS_UPDATE to 1.\n",
            "  check_for_updates()\n"
          ]
        }
      ]
    },
    {
      "cell_type": "code",
      "source": [
        "print(\"Train images shape:\", np.load(TRAIN_IMG_PATH).shape)\n",
        "print(\"Train masks shape:\", np.load(TRAIN_MASK_PATH).shape)\n",
        "\n",
        "print(\"Unique values in masks:\", np.unique(np.load(TRAIN_MASK_PATH)))\n",
        "print(\"Any NaNs in images:\", np.isnan(np.load(TRAIN_IMG_PATH)).sum())\n",
        "print(\"Any NaNs in masks:\", np.isnan(np.load(TRAIN_MASK_PATH)).sum())"
      ],
      "metadata": {
        "colab": {
          "base_uri": "https://localhost:8080/"
        },
        "id": "VF1yBujDK5dw",
        "outputId": "bc9fbd32-cb01-48cb-eb8c-09a2edde59cc"
      },
      "execution_count": null,
      "outputs": [
        {
          "output_type": "stream",
          "name": "stdout",
          "text": [
            "Train images shape: (500, 450, 600, 3)\n",
            "Train masks shape: (500, 450, 600, 1)\n",
            "Unique values in masks: [  0 255]\n",
            "Any NaNs in images: 0\n",
            "Any NaNs in masks: 0\n"
          ]
        }
      ]
    },
    {
      "cell_type": "code",
      "source": [
        "# Hyperparameters etc.\n",
        "LEARNING_RATE = 1e-4\n",
        "DEVICE = \"cuda\" if torch.cuda.is_available() else \"cpu\"\n",
        "BATCH_SIZE = 16\n",
        "NUM_EPOCHS = 4\n",
        "NUM_WORKERS = 2\n",
        "IMAGE_HEIGHT = 600\n",
        "IMAGE_WIDTH = 450\n",
        "PIN_MEMORY = True\n",
        "LOAD_MODEL = False"
      ],
      "metadata": {
        "id": "dLkh5xl_ze8K"
      },
      "execution_count": null,
      "outputs": []
    },
    {
      "cell_type": "code",
      "source": [
        "if __name__ == \"__main__\":\n",
        "    train_transform = A.Compose([\n",
        "        A.Resize(450, 600),  # Ensure correct dimensions\n",
        "        A.Normalize(mean=[0.0, 0.0, 0.0], std=[1.0, 1.0, 1.0], max_pixel_value=255.0),\n",
        "        ToTensorV2()\n",
        "    ])\n",
        "\n",
        "    val_transform = A.Compose([\n",
        "        A.Resize(450, 600),  # Ensure correct dimensions\n",
        "        A.Normalize(mean=[0.0, 0.0, 0.0], std=[1.0, 1.0, 1.0], max_pixel_value=255.0),  # Apply normalization to the image\n",
        "        ToTensorV2()\n",
        "    ])\n",
        "\n",
        "    model = UNET(in_channels=3, out_channels=1).to(DEVICE)\n",
        "    loss_fn = nn.BCEWithLogitsLoss()\n",
        "    optimizer = optim.Adam(model.parameters(), lr=LEARNING_RATE)\n",
        "\n",
        "    train_loader, val_loader = get_loaders(\n",
        "        TRAIN_IMG_PATH, TRAIN_MASK_PATH, VAL_IMG_PATH, VAL_MASK_PATH,\n",
        "        BATCH_SIZE, train_transform, val_transform, NUM_WORKERS, PIN_MEMORY\n",
        "    )\n",
        "\n",
        "    scaler = torch.cuda.amp.GradScaler()\n",
        "\n",
        "    for epoch in range(NUM_EPOCHS):\n",
        "        train_fn(train_loader, model, optimizer, loss_fn, scaler)\n",
        "        checkpoint = {\"state_dict\": model.state_dict(), \"optimizer\": optimizer.state_dict()}\n",
        "        check_accuracy(val_loader, model, device=DEVICE)\n",
        "        save_predictions_as_imgs(val_loader, model, folder=\"saved_images/\", device=DEVICE)"
      ],
      "metadata": {
        "colab": {
          "base_uri": "https://localhost:8080/"
        },
        "id": "Xup9ac2VzhsK",
        "outputId": "e5e150c3-a9f7-4cb4-f643-7f74645b92fe"
      },
      "execution_count": null,
      "outputs": [
        {
          "metadata": {
            "tags": null
          },
          "name": "stderr",
          "output_type": "stream",
          "text": [
            "<ipython-input-9-698c4113cd58>:23: FutureWarning: `torch.cuda.amp.GradScaler(args...)` is deprecated. Please use `torch.amp.GradScaler('cuda', args...)` instead.\n",
            "  scaler = torch.cuda.amp.GradScaler()\n",
            "100%|██████████| 32/32 [01:45<00:00,  3.29s/it, loss=0.462]\n"
          ]
        },
        {
          "metadata": {
            "tags": null
          },
          "name": "stdout",
          "output_type": "stream",
          "text": [
            "Got 91654901/135000000 with acc 67.89%\n",
            "Dice score: 1.449852466583252\n"
          ]
        },
        {
          "metadata": {
            "tags": null
          },
          "name": "stderr",
          "output_type": "stream",
          "text": [
            "100%|██████████| 32/32 [02:04<00:00,  3.90s/it, loss=0.728]\n"
          ]
        },
        {
          "metadata": {
            "tags": null
          },
          "name": "stdout",
          "output_type": "stream",
          "text": [
            "Got 96730692/135000000 with acc 71.65%\n",
            "Dice score: 1.1943962574005127\n"
          ]
        },
        {
          "metadata": {
            "tags": null
          },
          "name": "stderr",
          "output_type": "stream",
          "text": [
            "100%|██████████| 32/32 [02:04<00:00,  3.90s/it, loss=0.182]\n"
          ]
        },
        {
          "metadata": {
            "tags": null
          },
          "name": "stdout",
          "output_type": "stream",
          "text": [
            "Got 97986144/135000000 with acc 72.58%\n",
            "Dice score: 1.2665032148361206\n"
          ]
        },
        {
          "output_type": "stream",
          "name": "stderr",
          "text": [
            "100%|██████████| 32/32 [02:04<00:00,  3.90s/it, loss=0.173]\n"
          ]
        },
        {
          "output_type": "stream",
          "name": "stdout",
          "text": [
            "Got 97523203/135000000 with acc 72.24%\n",
            "Dice score: 1.3805286884307861\n"
          ]
        }
      ]
    },
    {
      "cell_type": "code",
      "source": [
        "save_checkpoint(checkpoint)"
      ],
      "metadata": {
        "colab": {
          "base_uri": "https://localhost:8080/"
        },
        "id": "rW2SKFFRdPys",
        "outputId": "8d5e017c-a323-4bec-bcd5-beaec6da82c1"
      },
      "execution_count": null,
      "outputs": [
        {
          "output_type": "stream",
          "name": "stdout",
          "text": [
            "=> Saving checkpoint\n"
          ]
        }
      ]
    }
  ]
}